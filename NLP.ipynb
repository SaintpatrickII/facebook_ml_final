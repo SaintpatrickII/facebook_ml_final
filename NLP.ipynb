{
 "cells": [
  {
   "cell_type": "code",
<<<<<<< HEAD
<<<<<<< HEAD
   "execution_count": 14,
=======
   "execution_count": 13,
>>>>>>> 3daa23547e60d19c7f16655e45fdceb9363e2897
=======
   "execution_count": 13,
>>>>>>> f2ad08c734372b267d827f1e778359060c38f46b
   "metadata": {},
   "outputs": [
    {
     "name": "stderr",
     "output_type": "stream",
     "text": [
      "[nltk_data] Downloading package punkt to /Users/paddy/nltk_data...\n",
      "[nltk_data]   Package punkt is already up-to-date!\n",
      "[nltk_data] Downloading package stopwords to /Users/paddy/nltk_data...\n",
      "[nltk_data]   Package stopwords is already up-to-date!\n"
     ]
    }
   ],
   "source": [
    "import pandas as pd\n",
    "import numpy as np\n",
    "from gensim.models import Word2Vec\n",
    "import nltk\n",
    "from nltk.tokenize import sent_tokenize, word_tokenize\n",
    "from nltk.corpus import stopwords\n",
    "nltk.download('punkt')\n",
    "nltk.download('stopwords')\n",
    "import torch\n",
    "from torch import Tensor\n",
    "import torch.nn as nn \n",
    "import torch.optim as optim\n",
    "import torch.nn.functional as F\n",
    "import torchvision.transforms as transforms\n",
    "from torchvision import models\n",
    "from torch.utils.tensorboard import SummaryWriter\n",
    "from torch.utils.data import DataLoader\n",
    "# from pytorch_loader import ImagesLoader\n",
    "import matplotlib.pyplot as plt\n",
    "import pandas as pd\n",
    "import os\n",
    "import torch\n",
    "from torch.utils.data import Dataset\n",
    "from skimage import io\n",
    "from sklearn.metrics import accuracy_score, precision_score, recall_score\n",
<<<<<<< HEAD
<<<<<<< HEAD
    "import torchvision.transforms as transforms\n",
    "from collections import Counter\n",
    "from sklearn.preprocessing import LabelEncoder"
=======
    "import torchvision.transforms as transforms\n"
>>>>>>> 3daa23547e60d19c7f16655e45fdceb9363e2897
=======
    "import torchvision.transforms as transforms\n"
>>>>>>> f2ad08c734372b267d827f1e778359060c38f46b
   ]
  },
  {
   "cell_type": "code",
<<<<<<< HEAD
<<<<<<< HEAD
   "execution_count": 15,
=======
   "execution_count": 14,
>>>>>>> 3daa23547e60d19c7f16655e45fdceb9363e2897
=======
   "execution_count": 14,
>>>>>>> f2ad08c734372b267d827f1e778359060c38f46b
   "metadata": {},
   "outputs": [
    {
     "data": {
      "text/html": [
       "<div>\n",
       "<style scoped>\n",
       "    .dataframe tbody tr th:only-of-type {\n",
       "        vertical-align: middle;\n",
       "    }\n",
       "\n",
       "    .dataframe tbody tr th {\n",
       "        vertical-align: top;\n",
       "    }\n",
       "\n",
       "    .dataframe thead th {\n",
       "        text-align: right;\n",
       "    }\n",
       "</style>\n",
       "<table border=\"1\" class=\"dataframe\">\n",
       "  <thead>\n",
       "    <tr style=\"text-align: right;\">\n",
       "      <th></th>\n",
       "      <th>Unnamed: 0</th>\n",
       "      <th>id</th>\n",
       "      <th>product_name</th>\n",
       "      <th>category</th>\n",
       "      <th>product_description</th>\n",
       "      <th>price</th>\n",
       "      <th>location</th>\n",
       "      <th>url</th>\n",
       "      <th>page_id</th>\n",
       "      <th>create_time</th>\n",
       "    </tr>\n",
       "  </thead>\n",
       "  <tbody>\n",
       "    <tr>\n",
       "      <th>0</th>\n",
       "      <td>0</td>\n",
       "      <td>243809c0-9cfc-4486-ad12-3b7a16605ba9</td>\n",
       "      <td>Mirror wall art | in Wokingham, Berkshire | Gu...</td>\n",
       "      <td>Home &amp; Garden / Dining, Living Room Furniture ...</td>\n",
       "      <td>Mirror wall art. Posted by Nisha in Dining, Li...</td>\n",
       "      <td>£5.00</td>\n",
       "      <td>Wokingham, Berkshire</td>\n",
       "      <td>https://www.gumtree.com/p/mirrors-clocks-ornam...</td>\n",
       "      <td>1.426705e+09</td>\n",
       "      <td>2022-02-26</td>\n",
       "    </tr>\n",
       "    <tr>\n",
       "      <th>1</th>\n",
       "      <td>1</td>\n",
       "      <td>1c58d3f9-8b93-47ea-9415-204fcc2a22e6</td>\n",
       "      <td>Stainless Steel Food Steamer | in Inverness, H...</td>\n",
       "      <td>Home &amp; Garden / Other Household Goods</td>\n",
       "      <td>Morphy Richard’s (model no 48755)Stainless ste...</td>\n",
       "      <td>£20.00</td>\n",
       "      <td>Inverness, Highland</td>\n",
       "      <td>https://www.gumtree.com/p/other-household-good...</td>\n",
       "      <td>1.426705e+09</td>\n",
       "      <td>2022-02-26</td>\n",
       "    </tr>\n",
       "    <tr>\n",
       "      <th>2</th>\n",
       "      <td>2</td>\n",
       "      <td>860673f1-57f6-47ba-8d2f-13f9e05b8f9a</td>\n",
       "      <td>Sun loungers | in Skegness, Lincolnshire | Gum...</td>\n",
       "      <td>Home &amp; Garden / Garden &amp; Patio / Outdoor Setti...</td>\n",
       "      <td>I have 2 of these - collection only as I don’t...</td>\n",
       "      <td>£20.00</td>\n",
       "      <td>Skegness, Lincolnshire</td>\n",
       "      <td>https://www.gumtree.com/p/outdoor-settings-fur...</td>\n",
       "      <td>1.426705e+09</td>\n",
       "      <td>2022-02-26</td>\n",
       "    </tr>\n",
       "    <tr>\n",
       "      <th>3</th>\n",
       "      <td>3</td>\n",
       "      <td>59948726-29be-4b35-ade5-bb2fd7331856</td>\n",
       "      <td>Coffee side table from Ammunition ammo box hai...</td>\n",
       "      <td>Home &amp; Garden / Dining, Living Room Furniture ...</td>\n",
       "      <td>Great reclaimed army ammunition box used as co...</td>\n",
       "      <td>£115.00</td>\n",
       "      <td>Radstock, Somerset</td>\n",
       "      <td>https://www.gumtree.com/p/other-dining-living-...</td>\n",
       "      <td>1.426705e+09</td>\n",
       "      <td>2022-02-26</td>\n",
       "    </tr>\n",
       "    <tr>\n",
       "      <th>4</th>\n",
       "      <td>4</td>\n",
       "      <td>16dbc860-696e-4cda-93f6-4dd4926573fb</td>\n",
       "      <td>Modern Shannon Sofa for sale at low cost | in ...</td>\n",
       "      <td>Home &amp; Garden / Dining, Living Room Furniture ...</td>\n",
       "      <td>New Design Shannon Corner sofa  5 Seater Avail...</td>\n",
       "      <td>NaN</td>\n",
       "      <td>NaN</td>\n",
       "      <td>NaN</td>\n",
       "      <td>NaN</td>\n",
       "      <td>NaN</td>\n",
       "    </tr>\n",
       "    <tr>\n",
       "      <th>...</th>\n",
       "      <td>...</td>\n",
       "      <td>...</td>\n",
       "      <td>...</td>\n",
       "      <td>...</td>\n",
       "      <td>...</td>\n",
       "      <td>...</td>\n",
       "      <td>...</td>\n",
       "      <td>...</td>\n",
       "      <td>...</td>\n",
       "      <td>...</td>\n",
       "    </tr>\n",
       "    <tr>\n",
       "      <th>11313</th>\n",
       "      <td>7151</td>\n",
       "      <td>c4148656-78a9-4f3e-b393-134fdc5ef900</td>\n",
       "      <td>Sony PlayStation VR Move Bundle | in Acocks Gr...</td>\n",
       "      <td>Video Games &amp; Consoles / Consoles / PS4 (Sony ...</td>\n",
       "      <td>Sony PlayStation VR Move Bundle353CASH ON COLL...</td>\n",
       "      <td>£260.00</td>\n",
       "      <td>Acocks Green, West Midlands</td>\n",
       "      <td>https://www.gumtree.com/p/ps4/sony-playstation...</td>\n",
       "      <td>1.422159e+09</td>\n",
       "      <td>2022-02-28</td>\n",
       "    </tr>\n",
       "    <tr>\n",
       "      <th>11314</th>\n",
       "      <td>7152</td>\n",
       "      <td>564e3411-768d-4250-a624-b119d696f103</td>\n",
       "      <td>Playstation VR V2 Bundle | in Acocks Green, We...</td>\n",
       "      <td>Video Games &amp; Consoles / Consoles / PS4 (Sony ...</td>\n",
       "      <td>Playstation VR V2 Bundle355CASH ON COLLECTION ...</td>\n",
       "      <td>£235.00</td>\n",
       "      <td>Acocks Green, West Midlands</td>\n",
       "      <td>https://www.gumtree.com/p/ps4/playstation-vr-v...</td>\n",
       "      <td>1.422159e+09</td>\n",
       "      <td>2022-02-28</td>\n",
       "    </tr>\n",
       "    <tr>\n",
       "      <th>11315</th>\n",
       "      <td>7153</td>\n",
       "      <td>2b0a652b-46a2-4297-b619-5efeeb222787</td>\n",
       "      <td>Oculus quest 2 256gb | in Montrose, Angus | Gu...</td>\n",
       "      <td>Video Games &amp; Consoles / Other Video Games &amp; C...</td>\n",
       "      <td>Pick up only £250Comes with two pistols stocks...</td>\n",
       "      <td>£250.00</td>\n",
       "      <td>Montrose, Angus</td>\n",
       "      <td>https://www.gumtree.com/p/other-video-games/oc...</td>\n",
       "      <td>1.426669e+09</td>\n",
       "      <td>2022-02-28</td>\n",
       "    </tr>\n",
       "    <tr>\n",
       "      <th>11316</th>\n",
       "      <td>7154</td>\n",
       "      <td>719fd40a-870e-4144-b324-55dff2e66fb4</td>\n",
       "      <td>Logitech driving force shifter | in Carrickfer...</td>\n",
       "      <td>Video Games &amp; Consoles / Video Game Accessorie...</td>\n",
       "      <td>Bought at christmas from currys retailing at £...</td>\n",
       "      <td>£30.00</td>\n",
       "      <td>Carrickfergus, County Antrim</td>\n",
       "      <td>https://www.gumtree.com/p/other-video-game-acc...</td>\n",
       "      <td>1.426700e+09</td>\n",
       "      <td>2022-02-28</td>\n",
       "    </tr>\n",
       "    <tr>\n",
       "      <th>11317</th>\n",
       "      <td>7155</td>\n",
       "      <td>86d1806b-5575-4a7e-9160-f24f12be6c95</td>\n",
       "      <td>20 GAMES &amp; NINTENDO SWITCH BUNDLE | in Poole, ...</td>\n",
       "      <td>Video Games &amp; Consoles / Games</td>\n",
       "      <td>Nintendo Switch console only used 2/3 times. A...</td>\n",
       "      <td>£450.00</td>\n",
       "      <td>Poole, Dorset</td>\n",
       "      <td>https://www.gumtree.com/p/video-games/20-games...</td>\n",
       "      <td>1.426700e+09</td>\n",
       "      <td>2022-02-28</td>\n",
       "    </tr>\n",
       "  </tbody>\n",
       "</table>\n",
       "<p>11318 rows × 10 columns</p>\n",
       "</div>"
      ],
      "text/plain": [
       "      Unnamed: 0                                    id  \\\n",
       "0              0  243809c0-9cfc-4486-ad12-3b7a16605ba9   \n",
       "1              1  1c58d3f9-8b93-47ea-9415-204fcc2a22e6   \n",
       "2              2  860673f1-57f6-47ba-8d2f-13f9e05b8f9a   \n",
       "3              3  59948726-29be-4b35-ade5-bb2fd7331856   \n",
       "4              4  16dbc860-696e-4cda-93f6-4dd4926573fb   \n",
       "...          ...                                   ...   \n",
       "11313       7151  c4148656-78a9-4f3e-b393-134fdc5ef900   \n",
       "11314       7152  564e3411-768d-4250-a624-b119d696f103   \n",
       "11315       7153  2b0a652b-46a2-4297-b619-5efeeb222787   \n",
       "11316       7154  719fd40a-870e-4144-b324-55dff2e66fb4   \n",
       "11317       7155  86d1806b-5575-4a7e-9160-f24f12be6c95   \n",
       "\n",
       "                                            product_name  \\\n",
       "0      Mirror wall art | in Wokingham, Berkshire | Gu...   \n",
       "1      Stainless Steel Food Steamer | in Inverness, H...   \n",
       "2      Sun loungers | in Skegness, Lincolnshire | Gum...   \n",
       "3      Coffee side table from Ammunition ammo box hai...   \n",
       "4      Modern Shannon Sofa for sale at low cost | in ...   \n",
       "...                                                  ...   \n",
       "11313  Sony PlayStation VR Move Bundle | in Acocks Gr...   \n",
       "11314  Playstation VR V2 Bundle | in Acocks Green, We...   \n",
       "11315  Oculus quest 2 256gb | in Montrose, Angus | Gu...   \n",
       "11316  Logitech driving force shifter | in Carrickfer...   \n",
       "11317  20 GAMES & NINTENDO SWITCH BUNDLE | in Poole, ...   \n",
       "\n",
       "                                                category  \\\n",
       "0      Home & Garden / Dining, Living Room Furniture ...   \n",
       "1                  Home & Garden / Other Household Goods   \n",
       "2      Home & Garden / Garden & Patio / Outdoor Setti...   \n",
       "3      Home & Garden / Dining, Living Room Furniture ...   \n",
       "4      Home & Garden / Dining, Living Room Furniture ...   \n",
       "...                                                  ...   \n",
       "11313  Video Games & Consoles / Consoles / PS4 (Sony ...   \n",
       "11314  Video Games & Consoles / Consoles / PS4 (Sony ...   \n",
       "11315  Video Games & Consoles / Other Video Games & C...   \n",
       "11316  Video Games & Consoles / Video Game Accessorie...   \n",
       "11317                     Video Games & Consoles / Games   \n",
       "\n",
       "                                     product_description    price  \\\n",
       "0      Mirror wall art. Posted by Nisha in Dining, Li...    £5.00   \n",
       "1      Morphy Richard’s (model no 48755)Stainless ste...   £20.00   \n",
       "2      I have 2 of these - collection only as I don’t...   £20.00   \n",
       "3      Great reclaimed army ammunition box used as co...  £115.00   \n",
       "4      New Design Shannon Corner sofa  5 Seater Avail...      NaN   \n",
       "...                                                  ...      ...   \n",
       "11313  Sony PlayStation VR Move Bundle353CASH ON COLL...  £260.00   \n",
       "11314  Playstation VR V2 Bundle355CASH ON COLLECTION ...  £235.00   \n",
       "11315  Pick up only £250Comes with two pistols stocks...  £250.00   \n",
       "11316  Bought at christmas from currys retailing at £...   £30.00   \n",
       "11317  Nintendo Switch console only used 2/3 times. A...  £450.00   \n",
       "\n",
       "                           location  \\\n",
       "0              Wokingham, Berkshire   \n",
       "1               Inverness, Highland   \n",
       "2            Skegness, Lincolnshire   \n",
       "3                Radstock, Somerset   \n",
       "4                               NaN   \n",
       "...                             ...   \n",
       "11313   Acocks Green, West Midlands   \n",
       "11314   Acocks Green, West Midlands   \n",
       "11315               Montrose, Angus   \n",
       "11316  Carrickfergus, County Antrim   \n",
       "11317                 Poole, Dorset   \n",
       "\n",
       "                                                     url       page_id  \\\n",
       "0      https://www.gumtree.com/p/mirrors-clocks-ornam...  1.426705e+09   \n",
       "1      https://www.gumtree.com/p/other-household-good...  1.426705e+09   \n",
       "2      https://www.gumtree.com/p/outdoor-settings-fur...  1.426705e+09   \n",
       "3      https://www.gumtree.com/p/other-dining-living-...  1.426705e+09   \n",
       "4                                                    NaN           NaN   \n",
       "...                                                  ...           ...   \n",
       "11313  https://www.gumtree.com/p/ps4/sony-playstation...  1.422159e+09   \n",
       "11314  https://www.gumtree.com/p/ps4/playstation-vr-v...  1.422159e+09   \n",
       "11315  https://www.gumtree.com/p/other-video-games/oc...  1.426669e+09   \n",
       "11316  https://www.gumtree.com/p/other-video-game-acc...  1.426700e+09   \n",
       "11317  https://www.gumtree.com/p/video-games/20-games...  1.426700e+09   \n",
       "\n",
       "      create_time  \n",
       "0      2022-02-26  \n",
       "1      2022-02-26  \n",
       "2      2022-02-26  \n",
       "3      2022-02-26  \n",
       "4             NaN  \n",
       "...           ...  \n",
       "11313  2022-02-28  \n",
       "11314  2022-02-28  \n",
       "11315  2022-02-28  \n",
       "11316  2022-02-28  \n",
       "11317  2022-02-28  \n",
       "\n",
       "[11318 rows x 10 columns]"
      ]
     },
<<<<<<< HEAD
<<<<<<< HEAD
     "execution_count": 15,
=======
     "execution_count": 14,
>>>>>>> 3daa23547e60d19c7f16655e45fdceb9363e2897
=======
     "execution_count": 14,
>>>>>>> f2ad08c734372b267d827f1e778359060c38f46b
     "metadata": {},
     "output_type": "execute_result"
    }
   ],
   "source": [
    "\n",
    "products = '/Users/paddy/Desktop/facebook_products.csv'\n",
    "\n",
    "df =  pd.read_csv(products)\n",
    "df\n"
   ]
  },
  {
   "cell_type": "code",
<<<<<<< HEAD
<<<<<<< HEAD
   "execution_count": 16,
=======
   "execution_count": 15,
>>>>>>> 3daa23547e60d19c7f16655e45fdceb9363e2897
=======
   "execution_count": 15,
>>>>>>> f2ad08c734372b267d827f1e778359060c38f46b
   "metadata": {},
   "outputs": [
    {
     "data": {
      "text/html": [
       "<div>\n",
       "<style scoped>\n",
       "    .dataframe tbody tr th:only-of-type {\n",
       "        vertical-align: middle;\n",
       "    }\n",
       "\n",
       "    .dataframe tbody tr th {\n",
       "        vertical-align: top;\n",
       "    }\n",
       "\n",
       "    .dataframe thead th {\n",
       "        text-align: right;\n",
       "    }\n",
       "</style>\n",
       "<table border=\"1\" class=\"dataframe\">\n",
       "  <thead>\n",
       "    <tr style=\"text-align: right;\">\n",
       "      <th></th>\n",
       "      <th>id</th>\n",
       "      <th>product_name</th>\n",
       "      <th>category</th>\n",
       "      <th>product_description</th>\n",
       "      <th>price</th>\n",
       "      <th>location</th>\n",
       "      <th>url</th>\n",
       "      <th>page_id</th>\n",
       "      <th>create_time</th>\n",
       "    </tr>\n",
       "  </thead>\n",
       "  <tbody>\n",
       "    <tr>\n",
       "      <th>0</th>\n",
       "      <td>243809c0-9cfc-4486-ad12-3b7a16605ba9</td>\n",
       "      <td>Mirror wall art | in Wokingham, Berkshire | Gu...</td>\n",
       "      <td>Home &amp; Garden / Dining, Living Room Furniture ...</td>\n",
       "      <td>Mirror wall art. Posted by Nisha in Dining, Li...</td>\n",
       "      <td>£5.00</td>\n",
       "      <td>Wokingham, Berkshire</td>\n",
       "      <td>https://www.gumtree.com/p/mirrors-clocks-ornam...</td>\n",
       "      <td>1.426705e+09</td>\n",
       "      <td>2022-02-26</td>\n",
       "    </tr>\n",
       "    <tr>\n",
       "      <th>1</th>\n",
       "      <td>1c58d3f9-8b93-47ea-9415-204fcc2a22e6</td>\n",
       "      <td>Stainless Steel Food Steamer | in Inverness, H...</td>\n",
       "      <td>Home &amp; Garden / Other Household Goods</td>\n",
       "      <td>Morphy Richards (model no 48755)Stainless stee...</td>\n",
       "      <td>£20.00</td>\n",
       "      <td>Inverness, Highland</td>\n",
       "      <td>https://www.gumtree.com/p/other-household-good...</td>\n",
       "      <td>1.426705e+09</td>\n",
       "      <td>2022-02-26</td>\n",
       "    </tr>\n",
       "    <tr>\n",
       "      <th>2</th>\n",
       "      <td>860673f1-57f6-47ba-8d2f-13f9e05b8f9a</td>\n",
       "      <td>Sun loungers | in Skegness, Lincolnshire | Gum...</td>\n",
       "      <td>Home &amp; Garden / Garden &amp; Patio / Outdoor Setti...</td>\n",
       "      <td>I have 2 of these - collection only as I dont ...</td>\n",
       "      <td>£20.00</td>\n",
       "      <td>Skegness, Lincolnshire</td>\n",
       "      <td>https://www.gumtree.com/p/outdoor-settings-fur...</td>\n",
       "      <td>1.426705e+09</td>\n",
       "      <td>2022-02-26</td>\n",
       "    </tr>\n",
       "    <tr>\n",
       "      <th>3</th>\n",
       "      <td>59948726-29be-4b35-ade5-bb2fd7331856</td>\n",
       "      <td>Coffee side table from Ammunition ammo box hai...</td>\n",
       "      <td>Home &amp; Garden / Dining, Living Room Furniture ...</td>\n",
       "      <td>Great reclaimed army ammunition box used as co...</td>\n",
       "      <td>£115.00</td>\n",
       "      <td>Radstock, Somerset</td>\n",
       "      <td>https://www.gumtree.com/p/other-dining-living-...</td>\n",
       "      <td>1.426705e+09</td>\n",
       "      <td>2022-02-26</td>\n",
       "    </tr>\n",
       "    <tr>\n",
<<<<<<< HEAD
<<<<<<< HEAD
       "      <th>12</th>\n",
       "      <td>5707be4f-49d9-4feb-b2c8-aa0868405c65</td>\n",
       "      <td>Spotlights | in Newent, Gloucestershire | Gumtree</td>\n",
       "      <td>Home &amp; Garden / Other Household Goods</td>\n",
       "      <td>New in box not needed Spotlights . Posted by s...</td>\n",
       "      <td>£9.00</td>\n",
       "      <td>Newent, Gloucestershire</td>\n",
       "      <td>https://www.gumtree.com/p/other-household-good...</td>\n",
       "      <td>1.426705e+09</td>\n",
       "      <td>2022-02-26</td>\n",
       "    </tr>\n",
       "    <tr>\n",
       "      <th>...</th>\n",
       "      <td>...</td>\n",
       "      <td>...</td>\n",
       "      <td>...</td>\n",
       "      <td>...</td>\n",
       "      <td>...</td>\n",
       "      <td>...</td>\n",
       "      <td>...</td>\n",
       "      <td>...</td>\n",
       "      <td>...</td>\n",
       "    </tr>\n",
       "    <tr>\n",
       "      <th>11313</th>\n",
       "      <td>c4148656-78a9-4f3e-b393-134fdc5ef900</td>\n",
       "      <td>Sony PlayStation VR Move Bundle | in Acocks Gr...</td>\n",
       "      <td>Video Games &amp; Consoles / Consoles / PS4 (Sony ...</td>\n",
       "      <td>Sony PlayStation VR Move Bundle353CASH ON COLL...</td>\n",
       "      <td>£260.00</td>\n",
       "      <td>Acocks Green, West Midlands</td>\n",
       "      <td>https://www.gumtree.com/p/ps4/sony-playstation...</td>\n",
       "      <td>1.422159e+09</td>\n",
       "      <td>2022-02-28</td>\n",
       "    </tr>\n",
       "    <tr>\n",
       "      <th>11314</th>\n",
       "      <td>564e3411-768d-4250-a624-b119d696f103</td>\n",
       "      <td>Playstation VR V2 Bundle | in Acocks Green, We...</td>\n",
       "      <td>Video Games &amp; Consoles / Consoles / PS4 (Sony ...</td>\n",
       "      <td>Playstation VR V2 Bundle355CASH ON COLLECTION ...</td>\n",
       "      <td>£235.00</td>\n",
       "      <td>Acocks Green, West Midlands</td>\n",
       "      <td>https://www.gumtree.com/p/ps4/playstation-vr-v...</td>\n",
       "      <td>1.422159e+09</td>\n",
       "      <td>2022-02-28</td>\n",
       "    </tr>\n",
       "    <tr>\n",
       "      <th>11315</th>\n",
       "      <td>2b0a652b-46a2-4297-b619-5efeeb222787</td>\n",
       "      <td>Oculus quest 2 256gb | in Montrose, Angus | Gu...</td>\n",
       "      <td>Video Games &amp; Consoles / Other Video Games &amp; C...</td>\n",
       "      <td>Pick up only 250Comes with two pistols stocks ...</td>\n",
       "      <td>£250.00</td>\n",
       "      <td>Montrose, Angus</td>\n",
       "      <td>https://www.gumtree.com/p/other-video-games/oc...</td>\n",
       "      <td>1.426669e+09</td>\n",
       "      <td>2022-02-28</td>\n",
       "    </tr>\n",
       "    <tr>\n",
       "      <th>11316</th>\n",
       "      <td>719fd40a-870e-4144-b324-55dff2e66fb4</td>\n",
       "      <td>Logitech driving force shifter | in Carrickfer...</td>\n",
       "      <td>Video Games &amp; Consoles / Video Game Accessorie...</td>\n",
       "      <td>Bought at christmas from currys retailing at 4...</td>\n",
       "      <td>£30.00</td>\n",
       "      <td>Carrickfergus, County Antrim</td>\n",
       "      <td>https://www.gumtree.com/p/other-video-game-acc...</td>\n",
       "      <td>1.426700e+09</td>\n",
       "      <td>2022-02-28</td>\n",
       "    </tr>\n",
       "    <tr>\n",
       "      <th>11317</th>\n",
       "      <td>86d1806b-5575-4a7e-9160-f24f12be6c95</td>\n",
       "      <td>20 GAMES &amp; NINTENDO SWITCH BUNDLE | in Poole, ...</td>\n",
       "      <td>Video Games &amp; Consoles / Games</td>\n",
       "      <td>Nintendo Switch console only used 2/3 times. A...</td>\n",
       "      <td>£450.00</td>\n",
       "      <td>Poole, Dorset</td>\n",
       "      <td>https://www.gumtree.com/p/video-games/20-games...</td>\n",
       "      <td>1.426700e+09</td>\n",
       "      <td>2022-02-28</td>\n",
       "    </tr>\n",
       "  </tbody>\n",
       "</table>\n",
       "<p>6311 rows × 9 columns</p>\n",
       "</div>"
      ],
      "text/plain": [
       "                                         id  \\\n",
       "0      243809c0-9cfc-4486-ad12-3b7a16605ba9   \n",
       "1      1c58d3f9-8b93-47ea-9415-204fcc2a22e6   \n",
       "2      860673f1-57f6-47ba-8d2f-13f9e05b8f9a   \n",
       "3      59948726-29be-4b35-ade5-bb2fd7331856   \n",
       "12     5707be4f-49d9-4feb-b2c8-aa0868405c65   \n",
       "...                                     ...   \n",
       "11313  c4148656-78a9-4f3e-b393-134fdc5ef900   \n",
       "11314  564e3411-768d-4250-a624-b119d696f103   \n",
       "11315  2b0a652b-46a2-4297-b619-5efeeb222787   \n",
       "11316  719fd40a-870e-4144-b324-55dff2e66fb4   \n",
       "11317  86d1806b-5575-4a7e-9160-f24f12be6c95   \n",
       "\n",
       "                                            product_name  \\\n",
       "0      Mirror wall art | in Wokingham, Berkshire | Gu...   \n",
       "1      Stainless Steel Food Steamer | in Inverness, H...   \n",
       "2      Sun loungers | in Skegness, Lincolnshire | Gum...   \n",
       "3      Coffee side table from Ammunition ammo box hai...   \n",
       "12     Spotlights | in Newent, Gloucestershire | Gumtree   \n",
       "...                                                  ...   \n",
       "11313  Sony PlayStation VR Move Bundle | in Acocks Gr...   \n",
       "11314  Playstation VR V2 Bundle | in Acocks Green, We...   \n",
       "11315  Oculus quest 2 256gb | in Montrose, Angus | Gu...   \n",
       "11316  Logitech driving force shifter | in Carrickfer...   \n",
       "11317  20 GAMES & NINTENDO SWITCH BUNDLE | in Poole, ...   \n",
       "\n",
       "                                                category  \\\n",
       "0      Home & Garden / Dining, Living Room Furniture ...   \n",
       "1                  Home & Garden / Other Household Goods   \n",
       "2      Home & Garden / Garden & Patio / Outdoor Setti...   \n",
       "3      Home & Garden / Dining, Living Room Furniture ...   \n",
       "12                 Home & Garden / Other Household Goods   \n",
       "...                                                  ...   \n",
       "11313  Video Games & Consoles / Consoles / PS4 (Sony ...   \n",
       "11314  Video Games & Consoles / Consoles / PS4 (Sony ...   \n",
       "11315  Video Games & Consoles / Other Video Games & C...   \n",
       "11316  Video Games & Consoles / Video Game Accessorie...   \n",
       "11317                     Video Games & Consoles / Games   \n",
       "\n",
       "                                     product_description    price  \\\n",
       "0      Mirror wall art. Posted by Nisha in Dining, Li...    £5.00   \n",
       "1      Morphy Richards (model no 48755)Stainless stee...   £20.00   \n",
       "2      I have 2 of these - collection only as I dont ...   £20.00   \n",
       "3      Great reclaimed army ammunition box used as co...  £115.00   \n",
       "12     New in box not needed Spotlights . Posted by s...    £9.00   \n",
       "...                                                  ...      ...   \n",
       "11313  Sony PlayStation VR Move Bundle353CASH ON COLL...  £260.00   \n",
       "11314  Playstation VR V2 Bundle355CASH ON COLLECTION ...  £235.00   \n",
       "11315  Pick up only 250Comes with two pistols stocks ...  £250.00   \n",
       "11316  Bought at christmas from currys retailing at 4...   £30.00   \n",
       "11317  Nintendo Switch console only used 2/3 times. A...  £450.00   \n",
       "\n",
       "                           location  \\\n",
       "0              Wokingham, Berkshire   \n",
       "1               Inverness, Highland   \n",
       "2            Skegness, Lincolnshire   \n",
       "3                Radstock, Somerset   \n",
       "12          Newent, Gloucestershire   \n",
       "...                             ...   \n",
       "11313   Acocks Green, West Midlands   \n",
       "11314   Acocks Green, West Midlands   \n",
       "11315               Montrose, Angus   \n",
       "11316  Carrickfergus, County Antrim   \n",
       "11317                 Poole, Dorset   \n",
       "\n",
       "                                                     url       page_id  \\\n",
       "0      https://www.gumtree.com/p/mirrors-clocks-ornam...  1.426705e+09   \n",
       "1      https://www.gumtree.com/p/other-household-good...  1.426705e+09   \n",
       "2      https://www.gumtree.com/p/outdoor-settings-fur...  1.426705e+09   \n",
       "3      https://www.gumtree.com/p/other-dining-living-...  1.426705e+09   \n",
       "12     https://www.gumtree.com/p/other-household-good...  1.426705e+09   \n",
       "...                                                  ...           ...   \n",
       "11313  https://www.gumtree.com/p/ps4/sony-playstation...  1.422159e+09   \n",
       "11314  https://www.gumtree.com/p/ps4/playstation-vr-v...  1.422159e+09   \n",
       "11315  https://www.gumtree.com/p/other-video-games/oc...  1.426669e+09   \n",
       "11316  https://www.gumtree.com/p/other-video-game-acc...  1.426700e+09   \n",
       "11317  https://www.gumtree.com/p/video-games/20-games...  1.426700e+09   \n",
       "\n",
       "      create_time  \n",
       "0      2022-02-26  \n",
       "1      2022-02-26  \n",
       "2      2022-02-26  \n",
       "3      2022-02-26  \n",
       "12     2022-02-26  \n",
       "...           ...  \n",
       "11313  2022-02-28  \n",
       "11314  2022-02-28  \n",
       "11315  2022-02-28  \n",
       "11316  2022-02-28  \n",
       "11317  2022-02-28  \n",
       "\n",
       "[6311 rows x 9 columns]"
      ]
     },
     "execution_count": 16,
=======
=======
>>>>>>> f2ad08c734372b267d827f1e778359060c38f46b
       "      <th>4</th>\n",
       "      <td>16dbc860-696e-4cda-93f6-4dd4926573fb</td>\n",
       "      <td>Modern Shannon Sofa for sale at low cost | in ...</td>\n",
       "      <td>Home &amp; Garden / Dining, Living Room Furniture ...</td>\n",
       "      <td>New Design Shannon Corner sofa  5 Seater Avail...</td>\n",
       "      <td>NaN</td>\n",
       "      <td>NaN</td>\n",
       "      <td>NaN</td>\n",
       "      <td>NaN</td>\n",
       "      <td>NaN</td>\n",
       "    </tr>\n",
       "  </tbody>\n",
       "</table>\n",
       "</div>"
      ],
      "text/plain": [
       "                                     id  \\\n",
       "0  243809c0-9cfc-4486-ad12-3b7a16605ba9   \n",
       "1  1c58d3f9-8b93-47ea-9415-204fcc2a22e6   \n",
       "2  860673f1-57f6-47ba-8d2f-13f9e05b8f9a   \n",
       "3  59948726-29be-4b35-ade5-bb2fd7331856   \n",
       "4  16dbc860-696e-4cda-93f6-4dd4926573fb   \n",
       "\n",
       "                                        product_name  \\\n",
       "0  Mirror wall art | in Wokingham, Berkshire | Gu...   \n",
       "1  Stainless Steel Food Steamer | in Inverness, H...   \n",
       "2  Sun loungers | in Skegness, Lincolnshire | Gum...   \n",
       "3  Coffee side table from Ammunition ammo box hai...   \n",
       "4  Modern Shannon Sofa for sale at low cost | in ...   \n",
       "\n",
       "                                            category  \\\n",
       "0  Home & Garden / Dining, Living Room Furniture ...   \n",
       "1              Home & Garden / Other Household Goods   \n",
       "2  Home & Garden / Garden & Patio / Outdoor Setti...   \n",
       "3  Home & Garden / Dining, Living Room Furniture ...   \n",
       "4  Home & Garden / Dining, Living Room Furniture ...   \n",
       "\n",
       "                                 product_description    price  \\\n",
       "0  Mirror wall art. Posted by Nisha in Dining, Li...    £5.00   \n",
       "1  Morphy Richards (model no 48755)Stainless stee...   £20.00   \n",
       "2  I have 2 of these - collection only as I dont ...   £20.00   \n",
       "3  Great reclaimed army ammunition box used as co...  £115.00   \n",
       "4  New Design Shannon Corner sofa  5 Seater Avail...      NaN   \n",
       "\n",
       "                 location                                                url  \\\n",
       "0    Wokingham, Berkshire  https://www.gumtree.com/p/mirrors-clocks-ornam...   \n",
       "1     Inverness, Highland  https://www.gumtree.com/p/other-household-good...   \n",
       "2  Skegness, Lincolnshire  https://www.gumtree.com/p/outdoor-settings-fur...   \n",
       "3      Radstock, Somerset  https://www.gumtree.com/p/other-dining-living-...   \n",
       "4                     NaN                                                NaN   \n",
       "\n",
       "        page_id create_time  \n",
       "0  1.426705e+09  2022-02-26  \n",
       "1  1.426705e+09  2022-02-26  \n",
       "2  1.426705e+09  2022-02-26  \n",
       "3  1.426705e+09  2022-02-26  \n",
       "4           NaN         NaN  "
      ]
     },
     "execution_count": 15,
<<<<<<< HEAD
>>>>>>> 3daa23547e60d19c7f16655e45fdceb9363e2897
=======
>>>>>>> f2ad08c734372b267d827f1e778359060c38f46b
     "metadata": {},
     "output_type": "execute_result"
    }
   ],
   "source": [
    "df = df.drop(df.columns[0], axis=1)\n",
    "df['product_name'] = df['product_name'].str.encode('ascii', 'ignore').str.decode('ascii')\n",
    "df['product_description'] = df['product_description'].str.encode('ascii', 'ignore').str.decode('ascii')\n",
<<<<<<< HEAD
<<<<<<< HEAD
    "df = df.dropna(axis=0)\n",
    "# (\n",
    "#     subset=['product_description'])\n",
    "df"
=======
    "df.head()"
>>>>>>> 3daa23547e60d19c7f16655e45fdceb9363e2897
=======
    "df.head()"
>>>>>>> f2ad08c734372b267d827f1e778359060c38f46b
   ]
  },
  {
   "cell_type": "code",
<<<<<<< HEAD
<<<<<<< HEAD
   "execution_count": 17,
=======
   "execution_count": 16,
>>>>>>> 3daa23547e60d19c7f16655e45fdceb9363e2897
=======
   "execution_count": 16,
>>>>>>> f2ad08c734372b267d827f1e778359060c38f46b
   "metadata": {},
   "outputs": [
    {
     "name": "stderr",
     "output_type": "stream",
     "text": [
<<<<<<< HEAD
<<<<<<< HEAD
      "/var/folders/1j/z792ghj15kz_y3xd3w6q88d00000gn/T/ipykernel_4591/3166450288.py:3: SettingWithCopyWarning: \n",
=======
      "/var/folders/1j/z792ghj15kz_y3xd3w6q88d00000gn/T/ipykernel_2225/236711266.py:3: SettingWithCopyWarning: \n",
>>>>>>> 3daa23547e60d19c7f16655e45fdceb9363e2897
=======
      "/var/folders/1j/z792ghj15kz_y3xd3w6q88d00000gn/T/ipykernel_2225/236711266.py:3: SettingWithCopyWarning: \n",
>>>>>>> f2ad08c734372b267d827f1e778359060c38f46b
      "A value is trying to be set on a copy of a slice from a DataFrame.\n",
      "Try using .loc[row_indexer,col_indexer] = value instead\n",
      "\n",
      "See the caveats in the documentation: https://pandas.pydata.org/pandas-docs/stable/user_guide/indexing.html#returning-a-view-versus-a-copy\n",
      "  df_nlp['product_description'] = df_nlp['product_description'].astype(str)\n",
<<<<<<< HEAD
<<<<<<< HEAD
      "/var/folders/1j/z792ghj15kz_y3xd3w6q88d00000gn/T/ipykernel_4591/3166450288.py:4: SettingWithCopyWarning: \n",
=======
      "/var/folders/1j/z792ghj15kz_y3xd3w6q88d00000gn/T/ipykernel_2225/236711266.py:4: SettingWithCopyWarning: \n",
>>>>>>> 3daa23547e60d19c7f16655e45fdceb9363e2897
=======
      "/var/folders/1j/z792ghj15kz_y3xd3w6q88d00000gn/T/ipykernel_2225/236711266.py:4: SettingWithCopyWarning: \n",
>>>>>>> f2ad08c734372b267d827f1e778359060c38f46b
      "A value is trying to be set on a copy of a slice from a DataFrame.\n",
      "Try using .loc[row_indexer,col_indexer] = value instead\n",
      "\n",
      "See the caveats in the documentation: https://pandas.pydata.org/pandas-docs/stable/user_guide/indexing.html#returning-a-view-versus-a-copy\n",
      "  df_nlp['product_description'] = df_nlp['product_description'].str.lower()\n",
<<<<<<< HEAD
<<<<<<< HEAD
      "/var/folders/1j/z792ghj15kz_y3xd3w6q88d00000gn/T/ipykernel_4591/3166450288.py:5: FutureWarning: The default value of regex will change from True to False in a future version.\n",
      "  df_nlp['product_description'] = df_nlp['product_description'].str.replace('[^a-zA-Z ]', '')\n",
      "/var/folders/1j/z792ghj15kz_y3xd3w6q88d00000gn/T/ipykernel_4591/3166450288.py:5: SettingWithCopyWarning: \n",
=======
      "/var/folders/1j/z792ghj15kz_y3xd3w6q88d00000gn/T/ipykernel_2225/236711266.py:5: FutureWarning: The default value of regex will change from True to False in a future version.\n",
      "  df_nlp['product_description'] = df_nlp['product_description'].str.replace('[^a-zA-Z ]', '')\n",
      "/var/folders/1j/z792ghj15kz_y3xd3w6q88d00000gn/T/ipykernel_2225/236711266.py:5: SettingWithCopyWarning: \n",
>>>>>>> 3daa23547e60d19c7f16655e45fdceb9363e2897
=======
      "/var/folders/1j/z792ghj15kz_y3xd3w6q88d00000gn/T/ipykernel_2225/236711266.py:5: FutureWarning: The default value of regex will change from True to False in a future version.\n",
      "  df_nlp['product_description'] = df_nlp['product_description'].str.replace('[^a-zA-Z ]', '')\n",
      "/var/folders/1j/z792ghj15kz_y3xd3w6q88d00000gn/T/ipykernel_2225/236711266.py:5: SettingWithCopyWarning: \n",
>>>>>>> f2ad08c734372b267d827f1e778359060c38f46b
      "A value is trying to be set on a copy of a slice from a DataFrame.\n",
      "Try using .loc[row_indexer,col_indexer] = value instead\n",
      "\n",
      "See the caveats in the documentation: https://pandas.pydata.org/pandas-docs/stable/user_guide/indexing.html#returning-a-view-versus-a-copy\n",
      "  df_nlp['product_description'] = df_nlp['product_description'].str.replace('[^a-zA-Z ]', '')\n",
<<<<<<< HEAD
<<<<<<< HEAD
      "/var/folders/1j/z792ghj15kz_y3xd3w6q88d00000gn/T/ipykernel_4591/3166450288.py:6: FutureWarning: The default value of regex will change from True to False in a future version.\n",
      "  df_nlp['product_description'] = df_nlp['product_description'].str.replace('[0-9]', '')\n",
      "/var/folders/1j/z792ghj15kz_y3xd3w6q88d00000gn/T/ipykernel_4591/3166450288.py:6: SettingWithCopyWarning: \n",
=======
      "/var/folders/1j/z792ghj15kz_y3xd3w6q88d00000gn/T/ipykernel_2225/236711266.py:6: FutureWarning: The default value of regex will change from True to False in a future version.\n",
      "  df_nlp['product_description'] = df_nlp['product_description'].str.replace('[0-9]', '')\n",
      "/var/folders/1j/z792ghj15kz_y3xd3w6q88d00000gn/T/ipykernel_2225/236711266.py:6: SettingWithCopyWarning: \n",
>>>>>>> 3daa23547e60d19c7f16655e45fdceb9363e2897
=======
      "/var/folders/1j/z792ghj15kz_y3xd3w6q88d00000gn/T/ipykernel_2225/236711266.py:6: FutureWarning: The default value of regex will change from True to False in a future version.\n",
      "  df_nlp['product_description'] = df_nlp['product_description'].str.replace('[0-9]', '')\n",
      "/var/folders/1j/z792ghj15kz_y3xd3w6q88d00000gn/T/ipykernel_2225/236711266.py:6: SettingWithCopyWarning: \n",
>>>>>>> f2ad08c734372b267d827f1e778359060c38f46b
      "A value is trying to be set on a copy of a slice from a DataFrame.\n",
      "Try using .loc[row_indexer,col_indexer] = value instead\n",
      "\n",
      "See the caveats in the documentation: https://pandas.pydata.org/pandas-docs/stable/user_guide/indexing.html#returning-a-view-versus-a-copy\n",
      "  df_nlp['product_description'] = df_nlp['product_description'].str.replace('[0-9]', '')\n",
<<<<<<< HEAD
<<<<<<< HEAD
      "/var/folders/1j/z792ghj15kz_y3xd3w6q88d00000gn/T/ipykernel_4591/3166450288.py:7: SettingWithCopyWarning: \n",
=======
      "/var/folders/1j/z792ghj15kz_y3xd3w6q88d00000gn/T/ipykernel_2225/236711266.py:7: SettingWithCopyWarning: \n",
>>>>>>> 3daa23547e60d19c7f16655e45fdceb9363e2897
=======
      "/var/folders/1j/z792ghj15kz_y3xd3w6q88d00000gn/T/ipykernel_2225/236711266.py:7: SettingWithCopyWarning: \n",
>>>>>>> f2ad08c734372b267d827f1e778359060c38f46b
      "A value is trying to be set on a copy of a slice from a DataFrame.\n",
      "Try using .loc[row_indexer,col_indexer] = value instead\n",
      "\n",
      "See the caveats in the documentation: https://pandas.pydata.org/pandas-docs/stable/user_guide/indexing.html#returning-a-view-versus-a-copy\n",
      "  df_nlp['product_description'] = df_nlp['product_description'].apply(lambda x: ' '.join([word for word in x.split() if word not in (stop)]))\n"
     ]
<<<<<<< HEAD
<<<<<<< HEAD
    }
   ],
   "source": [
    "stop = stopwords.words('english')\n",
    "df_nlp = df[['product_description', 'category', 'id']]\n",
    "df_nlp['product_description'] = df_nlp['product_description'].astype(str)\n",
    "df_nlp['product_description'] = df_nlp['product_description'].str.lower()\n",
    "df_nlp['product_description'] = df_nlp['product_description'].str.replace('[^a-zA-Z ]', '')\n",
    "df_nlp['product_description'] = df_nlp['product_description'].str.replace('[0-9]', '')\n",
    "df_nlp['product_description'] = df_nlp['product_description'].apply(lambda x: ' '.join([word for word in x.split() if word not in (stop)]))\n",
    "df_nlp.head()\n",
    "le = LabelEncoder()\n",
    "# df_nlp['category'] = df_nlp['category'].str.split('/').str[0]\n",
    "\n",
    "# dfnlp = pd.get_dummies(df_nlp, columns=['category'])\n",
    "# df_nlp['category'] = le.fit_transform(df_nlp['category'])\n",
    "df.head()\n",
    "df_nlp.to_pickle('description_for_embedding.pkl')\n",
    "df_nlp.to_csv('df_from_demo.csv')"
   ]
  },
  {
   "cell_type": "code",
   "execution_count": 13,
   "metadata": {},
   "outputs": [
=======
    },
>>>>>>> 3daa23547e60d19c7f16655e45fdceb9363e2897
=======
    },
>>>>>>> f2ad08c734372b267d827f1e778359060c38f46b
    {
     "data": {
      "text/html": [
       "<div>\n",
       "<style scoped>\n",
       "    .dataframe tbody tr th:only-of-type {\n",
       "        vertical-align: middle;\n",
       "    }\n",
       "\n",
       "    .dataframe tbody tr th {\n",
       "        vertical-align: top;\n",
       "    }\n",
       "\n",
       "    .dataframe thead th {\n",
       "        text-align: right;\n",
       "    }\n",
       "</style>\n",
       "<table border=\"1\" class=\"dataframe\">\n",
       "  <thead>\n",
       "    <tr style=\"text-align: right;\">\n",
       "      <th></th>\n",
<<<<<<< HEAD
<<<<<<< HEAD
       "      <th>product_description</th>\n",
       "      <th>category</th>\n",
=======
       "      <th>id</th>\n",
       "      <th>product_description</th>\n",
>>>>>>> 3daa23547e60d19c7f16655e45fdceb9363e2897
=======
       "      <th>id</th>\n",
       "      <th>product_description</th>\n",
>>>>>>> f2ad08c734372b267d827f1e778359060c38f46b
       "    </tr>\n",
       "  </thead>\n",
       "  <tbody>\n",
       "    <tr>\n",
       "      <th>0</th>\n",
<<<<<<< HEAD
<<<<<<< HEAD
       "      <td>mirror wall art posted nisha dining living roo...</td>\n",
       "      <td>6</td>\n",
       "    </tr>\n",
       "    <tr>\n",
       "      <th>1</th>\n",
       "      <td>morphy richards model stainless steel tier sta...</td>\n",
       "      <td>6</td>\n",
       "    </tr>\n",
       "    <tr>\n",
       "      <th>2</th>\n",
       "      <td>collection dont drive ono</td>\n",
       "      <td>6</td>\n",
       "    </tr>\n",
       "    <tr>\n",
       "      <th>3</th>\n",
       "      <td>great reclaimed army ammunition box used coffe...</td>\n",
       "      <td>6</td>\n",
       "    </tr>\n",
       "    <tr>\n",
       "      <th>12</th>\n",
       "      <td>new box needed spotlights posted sue home gard...</td>\n",
       "      <td>6</td>\n",
       "    </tr>\n",
       "    <tr>\n",
       "      <th>...</th>\n",
       "      <td>...</td>\n",
       "      <td>...</td>\n",
       "    </tr>\n",
       "    <tr>\n",
       "      <th>11313</th>\n",
       "      <td>sony playstation vr move bundlecash collection...</td>\n",
       "      <td>12</td>\n",
       "    </tr>\n",
       "    <tr>\n",
       "      <th>11314</th>\n",
       "      <td>playstation vr v bundlecash collection deliver...</td>\n",
       "      <td>12</td>\n",
       "    </tr>\n",
       "    <tr>\n",
       "      <th>11315</th>\n",
       "      <td>pick comes two pistols stocks gun games protec...</td>\n",
       "      <td>12</td>\n",
       "    </tr>\n",
       "    <tr>\n",
       "      <th>11316</th>\n",
       "      <td>bought christmas currys retailing used along s...</td>\n",
       "      <td>12</td>\n",
       "    </tr>\n",
       "    <tr>\n",
       "      <th>11317</th>\n",
       "      <td>nintendo switch console used times almost wort...</td>\n",
       "      <td>12</td>\n",
       "    </tr>\n",
       "  </tbody>\n",
       "</table>\n",
       "<p>6311 rows × 2 columns</p>\n",
       "</div>"
      ],
      "text/plain": [
       "                                     product_description  category\n",
       "0      mirror wall art posted nisha dining living roo...         6\n",
       "1      morphy richards model stainless steel tier sta...         6\n",
       "2                              collection dont drive ono         6\n",
       "3      great reclaimed army ammunition box used coffe...         6\n",
       "12     new box needed spotlights posted sue home gard...         6\n",
       "...                                                  ...       ...\n",
       "11313  sony playstation vr move bundlecash collection...        12\n",
       "11314  playstation vr v bundlecash collection deliver...        12\n",
       "11315  pick comes two pistols stocks gun games protec...        12\n",
       "11316  bought christmas currys retailing used along s...        12\n",
       "11317  nintendo switch console used times almost wort...        12\n",
       "\n",
       "[6311 rows x 2 columns]"
      ]
     },
     "execution_count": 13,
=======
=======
>>>>>>> f2ad08c734372b267d827f1e778359060c38f46b
       "      <td>243809c0-9cfc-4486-ad12-3b7a16605ba9</td>\n",
       "      <td>mirror wall art posted nisha dining living roo...</td>\n",
       "    </tr>\n",
       "    <tr>\n",
       "      <th>1</th>\n",
       "      <td>1c58d3f9-8b93-47ea-9415-204fcc2a22e6</td>\n",
       "      <td>morphy richards model stainless steel tier sta...</td>\n",
       "    </tr>\n",
       "    <tr>\n",
       "      <th>2</th>\n",
       "      <td>860673f1-57f6-47ba-8d2f-13f9e05b8f9a</td>\n",
       "      <td>collection dont drive ono</td>\n",
       "    </tr>\n",
       "    <tr>\n",
       "      <th>3</th>\n",
       "      <td>59948726-29be-4b35-ade5-bb2fd7331856</td>\n",
       "      <td>great reclaimed army ammunition box used coffe...</td>\n",
       "    </tr>\n",
       "    <tr>\n",
       "      <th>4</th>\n",
       "      <td>16dbc860-696e-4cda-93f6-4dd4926573fb</td>\n",
       "      <td>new design shannon corner sofa seater available</td>\n",
       "    </tr>\n",
       "  </tbody>\n",
       "</table>\n",
       "</div>"
      ],
      "text/plain": [
       "                                     id  \\\n",
       "0  243809c0-9cfc-4486-ad12-3b7a16605ba9   \n",
       "1  1c58d3f9-8b93-47ea-9415-204fcc2a22e6   \n",
       "2  860673f1-57f6-47ba-8d2f-13f9e05b8f9a   \n",
       "3  59948726-29be-4b35-ade5-bb2fd7331856   \n",
       "4  16dbc860-696e-4cda-93f6-4dd4926573fb   \n",
       "\n",
       "                                 product_description  \n",
       "0  mirror wall art posted nisha dining living roo...  \n",
       "1  morphy richards model stainless steel tier sta...  \n",
       "2                          collection dont drive ono  \n",
       "3  great reclaimed army ammunition box used coffe...  \n",
       "4    new design shannon corner sofa seater available  "
      ]
     },
     "execution_count": 16,
<<<<<<< HEAD
>>>>>>> 3daa23547e60d19c7f16655e45fdceb9363e2897
=======
>>>>>>> f2ad08c734372b267d827f1e778359060c38f46b
     "metadata": {},
     "output_type": "execute_result"
    }
   ],
   "source": [
<<<<<<< HEAD
<<<<<<< HEAD
    "df_nlp"
=======
=======
>>>>>>> f2ad08c734372b267d827f1e778359060c38f46b
    "stop = stopwords.words('english')\n",
    "df_nlp = df[['id', 'product_description']]\n",
    "df_nlp['product_description'] = df_nlp['product_description'].astype(str)\n",
    "df_nlp['product_description'] = df_nlp['product_description'].str.lower()\n",
    "df_nlp['product_description'] = df_nlp['product_description'].str.replace('[^a-zA-Z ]', '')\n",
    "df_nlp['product_description'] = df_nlp['product_description'].str.replace('[0-9]', '')\n",
    "df_nlp['product_description'] = df_nlp['product_description'].apply(lambda x: ' '.join([word for word in x.split() if word not in (stop)]))\n",
    "df_nlp.head()"
<<<<<<< HEAD
>>>>>>> 3daa23547e60d19c7f16655e45fdceb9363e2897
=======
>>>>>>> f2ad08c734372b267d827f1e778359060c38f46b
   ]
  },
  {
   "cell_type": "code",
<<<<<<< HEAD
<<<<<<< HEAD
   "execution_count": 44,
=======
   "execution_count": 17,
>>>>>>> 3daa23547e60d19c7f16655e45fdceb9363e2897
=======
   "execution_count": 17,
>>>>>>> f2ad08c734372b267d827f1e778359060c38f46b
   "metadata": {},
   "outputs": [
    {
     "name": "stdout",
     "output_type": "stream",
     "text": [
      "['mirror', 'wall', 'art', 'posted', 'nisha', 'dining', 'living', 'room', 'furniture', 'mirrors', 'clocks', 'ornaments', 'wokingham', 'february', 'size', 'xcm']\n"
     ]
    },
    {
     "data": {
      "text/plain": [
       "'\\ntwo dfs,\\n\\n\\nword embedding df:\\ntakes wach word & will be constructed into 128 row vectorisation of that word via the word2vec model\\n\\n\\nconext df: takes each word in column a\\nin column b takes worse that surround that workd from (word-2 --> word --> word+2)\\nso for every word we have four rows, however we also need to add negative samples to each\\n\\n\\nas we train the model the model predicts the context words that would go either sides of the chosen word\\n\\neach word embedding should be unique but the context words should stay same size even if duplicates as were training multiple possible words that match the current word\\n\\n\\n'"
      ]
     },
<<<<<<< HEAD
<<<<<<< HEAD
     "execution_count": 44,
=======
     "execution_count": 17,
>>>>>>> 3daa23547e60d19c7f16655e45fdceb9363e2897
=======
     "execution_count": 17,
>>>>>>> f2ad08c734372b267d827f1e778359060c38f46b
     "metadata": {},
     "output_type": "execute_result"
    }
   ],
   "source": [
    "full_text_list = []\n",
    "\n",
    "\n",
    "desc_list = [[x] for x in df_nlp['product_description']]\n",
    "# print(desc_list)\n",
    "\n",
    "# corpus_text = 'n'.join(desc_list)\n",
    "\n",
    "testing = []\n",
    "data = []\n",
    "temp = []\n",
    "for desc in desc_list:\n",
    "    for index, item in enumerate((desc)):\n",
    "        # print(item)\n",
    "        for i in sent_tokenize(item):\n",
    "            temp = []\n",
    "            for j in word_tokenize(i):\n",
    "                temp.append(j)\n",
    "            data.append(temp)\n",
    "            testing.append(temp)\n",
    "\n",
    "print(data[0])\n",
    "\n",
    "\n",
    "\n",
    "'''\n",
    "two dfs,\n",
    "\n",
    "\n",
    "word embedding df:\n",
    "takes wach word & will be constructed into 128 row vectorisation of that word via the word2vec model\n",
    "\n",
    "\n",
    "conext df: takes each word in column a\n",
    "in column b takes worse that surround that workd from (word-2 --> word --> word+2)\n",
    "so for every word we have four rows, however we also need to add negative samples to each\n",
    "\n",
    "\n",
    "as we train the model the model predicts the context words that would go either sides of the chosen word\n",
    "\n",
    "each word embedding should be unique but the context words should stay same size even if duplicates as were training multiple possible words that match the current word\n",
    "\n",
    "\n",
    "'''"
   ]
  },
  {
   "cell_type": "code",
<<<<<<< HEAD
<<<<<<< HEAD
   "execution_count": 45,
=======
   "execution_count": 18,
>>>>>>> 3daa23547e60d19c7f16655e45fdceb9363e2897
=======
   "execution_count": 18,
>>>>>>> f2ad08c734372b267d827f1e778359060c38f46b
   "metadata": {},
   "outputs": [
    {
     "name": "stdout",
     "output_type": "stream",
     "text": [
<<<<<<< HEAD
<<<<<<< HEAD
      "['mirror', 'room', 0]\n"
=======
      "['mirror', 'mirrors', 0]\n"
>>>>>>> 3daa23547e60d19c7f16655e45fdceb9363e2897
=======
      "['mirror', 'mirrors', 0]\n"
>>>>>>> f2ad08c734372b267d827f1e778359060c38f46b
     ]
    }
   ],
   "source": [
    "final_dataset = []\n",
    "window_size = 3\n",
    "negative_samples_size = 2\n",
    "full_data = data\n",
    "# print(data)\n",
    "\n",
    "def embedding_prep(description):\n",
    "    for index, centre_word in enumerate(description[window_size -3 : -window_size]):\n",
    "        # print(centre_word)\n",
    "        # if index == 0 or index == 1:\n",
    "        #     context_words = [context_word for context_word in description[index : index + 2] if context_word != centre_word]\n",
    "        context_words = [context_word for context_word in description[index : index + 2 * window_size - 1] if context_word != centre_word]\n",
    "\n",
    "        for context_word in context_words:\n",
    "\n",
    "            final_dataset.append([centre_word, context_word, 1])\n",
    "            if context_word in context_word:\n",
    "                # print(context_word)\n",
    "                try:\n",
    "\n",
    "                    negative_samples = np.random.choice([w for w in description[window_size-3:-window_size] if w != centre_word and w not in context_words], negative_samples_size)\n",
    "                except:\n",
    "                    continue\n",
    "                \n",
    "                    \n",
    "\n",
    "        \n",
    "            for negative_samp in negative_samples:\n",
    "            \n",
    "            #add a training row\n",
    "                final_dataset.append([centre_word, negative_samp, 0])\n",
    "    # print(final_dataset[0])\n",
    "\n",
    "\n",
    "\n",
    "\n",
    "\n",
    "for index, data in enumerate(full_data):\n",
    "    embedding_prep(data)\n",
    "\n",
    "print(final_dataset[1])\n",
    "\n"
   ]
  },
  {
   "cell_type": "code",
<<<<<<< HEAD
<<<<<<< HEAD
   "execution_count": 46,
=======
   "execution_count": 19,
>>>>>>> 3daa23547e60d19c7f16655e45fdceb9363e2897
=======
   "execution_count": 19,
>>>>>>> f2ad08c734372b267d827f1e778359060c38f46b
   "metadata": {},
   "outputs": [
    {
     "data": {
      "text/html": [
       "<div>\n",
       "<style scoped>\n",
       "    .dataframe tbody tr th:only-of-type {\n",
       "        vertical-align: middle;\n",
       "    }\n",
       "\n",
       "    .dataframe tbody tr th {\n",
       "        vertical-align: top;\n",
       "    }\n",
       "\n",
       "    .dataframe thead th {\n",
       "        text-align: right;\n",
       "    }\n",
       "</style>\n",
       "<table border=\"1\" class=\"dataframe\">\n",
       "  <thead>\n",
       "    <tr style=\"text-align: right;\">\n",
       "      <th></th>\n",
       "      <th>center_word</th>\n",
       "      <th>context_word</th>\n",
       "      <th>label</th>\n",
       "    </tr>\n",
       "  </thead>\n",
       "  <tbody>\n",
       "    <tr>\n",
       "      <th>0</th>\n",
       "      <td>mirror</td>\n",
       "      <td>wall</td>\n",
       "      <td>1</td>\n",
       "    </tr>\n",
       "    <tr>\n",
       "      <th>1</th>\n",
       "      <td>mirror</td>\n",
<<<<<<< HEAD
<<<<<<< HEAD
       "      <td>room</td>\n",
=======
       "      <td>mirrors</td>\n",
>>>>>>> 3daa23547e60d19c7f16655e45fdceb9363e2897
=======
       "      <td>mirrors</td>\n",
>>>>>>> f2ad08c734372b267d827f1e778359060c38f46b
       "      <td>0</td>\n",
       "    </tr>\n",
       "    <tr>\n",
       "      <th>2</th>\n",
       "      <td>mirror</td>\n",
<<<<<<< HEAD
<<<<<<< HEAD
       "      <td>clocks</td>\n",
=======
       "      <td>furniture</td>\n",
>>>>>>> 3daa23547e60d19c7f16655e45fdceb9363e2897
=======
       "      <td>furniture</td>\n",
>>>>>>> f2ad08c734372b267d827f1e778359060c38f46b
       "      <td>0</td>\n",
       "    </tr>\n",
       "    <tr>\n",
       "      <th>3</th>\n",
       "      <td>mirror</td>\n",
       "      <td>art</td>\n",
       "      <td>1</td>\n",
       "    </tr>\n",
       "    <tr>\n",
       "      <th>4</th>\n",
       "      <td>mirror</td>\n",
<<<<<<< HEAD
<<<<<<< HEAD
       "      <td>room</td>\n",
=======
       "      <td>mirrors</td>\n",
>>>>>>> 3daa23547e60d19c7f16655e45fdceb9363e2897
=======
       "      <td>mirrors</td>\n",
>>>>>>> f2ad08c734372b267d827f1e778359060c38f46b
       "      <td>0</td>\n",
       "    </tr>\n",
       "    <tr>\n",
       "      <th>...</th>\n",
       "      <td>...</td>\n",
       "      <td>...</td>\n",
       "      <td>...</td>\n",
       "    </tr>\n",
       "    <tr>\n",
       "      <th>2186143</th>\n",
       "      <td>league</td>\n",
<<<<<<< HEAD
<<<<<<< HEAD
       "      <td>pikachu</td>\n",
=======
       "      <td>pre</td>\n",
>>>>>>> 3daa23547e60d19c7f16655e45fdceb9363e2897
=======
       "      <td>pre</td>\n",
>>>>>>> f2ad08c734372b267d827f1e778359060c38f46b
       "      <td>0</td>\n",
       "    </tr>\n",
       "    <tr>\n",
       "      <th>2186144</th>\n",
       "      <td>league</td>\n",
<<<<<<< HEAD
<<<<<<< HEAD
       "      <td>turn</td>\n",
=======
       "      <td>poolegames</td>\n",
>>>>>>> 3daa23547e60d19c7f16655e45fdceb9363e2897
=======
       "      <td>poolegames</td>\n",
>>>>>>> f2ad08c734372b267d827f1e778359060c38f46b
       "      <td>0</td>\n",
       "    </tr>\n",
       "    <tr>\n",
       "      <th>2186145</th>\n",
       "      <td>league</td>\n",
<<<<<<< HEAD
<<<<<<< HEAD
       "      <td>pair</td>\n",
=======
       "      <td>vengeancepokmon</td>\n",
>>>>>>> 3daa23547e60d19c7f16655e45fdceb9363e2897
=======
       "      <td>vengeancepokmon</td>\n",
>>>>>>> f2ad08c734372b267d827f1e778359060c38f46b
       "      <td>0</td>\n",
       "    </tr>\n",
       "    <tr>\n",
       "      <th>2186146</th>\n",
       "      <td>league</td>\n",
<<<<<<< HEAD
<<<<<<< HEAD
       "      <td>go</td>\n",
=======
       "      <td>fever</td>\n",
>>>>>>> 3daa23547e60d19c7f16655e45fdceb9363e2897
=======
       "      <td>fever</td>\n",
>>>>>>> f2ad08c734372b267d827f1e778359060c38f46b
       "      <td>0</td>\n",
       "    </tr>\n",
       "    <tr>\n",
       "      <th>2186147</th>\n",
       "      <td>league</td>\n",
<<<<<<< HEAD
<<<<<<< HEAD
       "      <td>mario</td>\n",
=======
       "      <td>message</td>\n",
>>>>>>> 3daa23547e60d19c7f16655e45fdceb9363e2897
=======
       "      <td>message</td>\n",
>>>>>>> f2ad08c734372b267d827f1e778359060c38f46b
       "      <td>0</td>\n",
       "    </tr>\n",
       "  </tbody>\n",
       "</table>\n",
       "<p>2186148 rows × 3 columns</p>\n",
       "</div>"
      ],
      "text/plain": [
<<<<<<< HEAD
<<<<<<< HEAD
       "        center_word context_word  label\n",
       "0            mirror         wall      1\n",
       "1            mirror         room      0\n",
       "2            mirror       clocks      0\n",
       "3            mirror          art      1\n",
       "4            mirror         room      0\n",
       "...             ...          ...    ...\n",
       "2186143      league      pikachu      0\n",
       "2186144      league         turn      0\n",
       "2186145      league         pair      0\n",
       "2186146      league           go      0\n",
       "2186147      league        mario      0\n",
=======
=======
>>>>>>> f2ad08c734372b267d827f1e778359060c38f46b
       "        center_word     context_word  label\n",
       "0            mirror             wall      1\n",
       "1            mirror          mirrors      0\n",
       "2            mirror        furniture      0\n",
       "3            mirror              art      1\n",
       "4            mirror          mirrors      0\n",
       "...             ...              ...    ...\n",
       "2186143      league              pre      0\n",
       "2186144      league       poolegames      0\n",
       "2186145      league  vengeancepokmon      0\n",
       "2186146      league            fever      0\n",
       "2186147      league          message      0\n",
<<<<<<< HEAD
>>>>>>> 3daa23547e60d19c7f16655e45fdceb9363e2897
=======
>>>>>>> f2ad08c734372b267d827f1e778359060c38f46b
       "\n",
       "[2186148 rows x 3 columns]"
      ]
     },
<<<<<<< HEAD
<<<<<<< HEAD
     "execution_count": 46,
=======
     "execution_count": 19,
>>>>>>> 3daa23547e60d19c7f16655e45fdceb9363e2897
=======
     "execution_count": 19,
>>>>>>> f2ad08c734372b267d827f1e778359060c38f46b
     "metadata": {},
     "output_type": "execute_result"
    }
   ],
   "source": [
    "df = pd.DataFrame(columns=['center_word', 'context_word', 'label'], data=final_dataset)\n",
    "words = np.intersect1d(df.context_word, df.center_word)\n",
    "df = df[(df.center_word.isin(words)) & (df.context_word.isin(words))].reset_index(drop=True)\n",
    "df"
   ]
  },
  {
   "cell_type": "code",
<<<<<<< HEAD
<<<<<<< HEAD
   "execution_count": 47,
=======
   "execution_count": 20,
>>>>>>> 3daa23547e60d19c7f16655e45fdceb9363e2897
=======
   "execution_count": 20,
>>>>>>> f2ad08c734372b267d827f1e778359060c38f46b
   "metadata": {},
   "outputs": [
    {
     "name": "stdout",
     "output_type": "stream",
     "text": [
<<<<<<< HEAD
<<<<<<< HEAD
      "[(['mirror', 'wall', 'art', 'posted', 'nisha', 'dining', 'living', 'room', 'furniture', 'mirrors', 'clocks', 'ornaments', 'wokingham', 'february', 'size', 'xcm'], <gensim.models.keyedvectors.KeyedVectors object at 0x7f9b35548670>), (['morphy', 'richards', 'model', 'stainless', 'steel', 'tier', 'stackable', 'food', 'steamer', 'litre', 'capacity', 'litre', 'rice', 'tray', 'easy', 'clean', 'used', 'dishwasher', 'ideal', 'family', 'cookingserves', 'personbrand', 'new', 'never', 'used', 'still', 'original', 'packaging'], <gensim.models.keyedvectors.KeyedVectors object at 0x7f9aef8a0e20>), (['collection', 'dont', 'drive', 'ono'], <gensim.models.keyedvectors.KeyedVectors object at 0x7f9b2b91cac0>), (['great', 'reclaimed', 'army', 'ammunition', 'box', 'used', 'coffee', 'side', 'tableoriginal', 'text', 'detail', 'latchs', 'leather', 'handle', 'metal', 'corners', 'fantastic', 'patinareal', 'statement', 'piece', 'one', 'two', 'boxes', 'sameblack', 'steel', 'prong', 'hairpin', 'legstotal', 'cm', 'cm', 'widecm', 'longcm', 'inch', 'highbox', 'inch', 'cm', 'deepblack', 'hairpin', 'legs', 'cm', 'inch', 'come', 'floor', 'protectors', 'wanted', 'collection', 'kilmersdon', 'somerset', 'batd', 'deliver', 'locally', 'small', 'fee'], <gensim.models.keyedvectors.KeyedVectors object at 0x7f9b4d16e6d0>), (['new', 'design', 'shannon', 'corner', 'sofa', 'seater', 'available'], <gensim.models.keyedvectors.KeyedVectors object at 0x7f9b182affd0>)]\n",
      "25\n"
     ]
    },
    {
     "ename": "KeyError",
     "evalue": "'mirror'",
     "output_type": "error",
     "traceback": [
      "\u001b[0;31m---------------------------------------------------------------------------\u001b[0m",
      "\u001b[0;31mKeyError\u001b[0m                                  Traceback (most recent call last)",
      "\u001b[0;32m/var/folders/1j/z792ghj15kz_y3xd3w6q88d00000gn/T/ipykernel_3737/691554797.py\u001b[0m in \u001b[0;36m<module>\u001b[0;34m\u001b[0m\n\u001b[1;32m     18\u001b[0m \u001b[0mprint\u001b[0m\u001b[0;34m(\u001b[0m\u001b[0mlen\u001b[0m\u001b[0;34m(\u001b[0m\u001b[0mmodel\u001b[0m\u001b[0;34m.\u001b[0m\u001b[0mwv\u001b[0m\u001b[0;34m)\u001b[0m\u001b[0;34m)\u001b[0m\u001b[0;34m\u001b[0m\u001b[0;34m\u001b[0m\u001b[0m\n\u001b[1;32m     19\u001b[0m \u001b[0;34m\u001b[0m\u001b[0m\n\u001b[0;32m---> 20\u001b[0;31m \u001b[0mwindow_idx\u001b[0m \u001b[0;34m=\u001b[0m \u001b[0mmodel\u001b[0m\u001b[0;34m.\u001b[0m\u001b[0mwv\u001b[0m\u001b[0;34m.\u001b[0m\u001b[0mkey_to_index\u001b[0m\u001b[0;34m[\u001b[0m\u001b[0;34m'mirror'\u001b[0m\u001b[0;34m]\u001b[0m\u001b[0;34m\u001b[0m\u001b[0;34m\u001b[0m\u001b[0m\n\u001b[0m\u001b[1;32m     21\u001b[0m \u001b[0mwindow_idx\u001b[0m \u001b[0;34m=\u001b[0m \u001b[0mmodel\u001b[0m\u001b[0;34m.\u001b[0m\u001b[0mwv\u001b[0m\u001b[0;34m.\u001b[0m\u001b[0mget_vecattr\u001b[0m\u001b[0;34m(\u001b[0m\u001b[0;34m'mirror'\u001b[0m\u001b[0;34m,\u001b[0m \u001b[0;34m'league'\u001b[0m\u001b[0;34m)\u001b[0m\u001b[0;34m\u001b[0m\u001b[0;34m\u001b[0m\u001b[0m\n\u001b[1;32m     22\u001b[0m \u001b[0;31m# class word2vec(nn.module):\u001b[0m\u001b[0;34m\u001b[0m\u001b[0;34m\u001b[0m\u001b[0;34m\u001b[0m\u001b[0m\n",
      "\u001b[0;31mKeyError\u001b[0m: 'mirror'"
=======
      "[(['mirror', 'wall', 'art', 'posted', 'nisha', 'dining', 'living', 'room', 'furniture', 'mirrors', 'clocks', 'ornaments', 'wokingham', 'february', 'size', 'xcm'], <gensim.models.keyedvectors.KeyedVectors object at 0x7fd209130880>), (['morphy', 'richards', 'model', 'stainless', 'steel', 'tier', 'stackable', 'food', 'steamer', 'litre', 'capacity', 'litre', 'rice', 'tray', 'easy', 'clean', 'used', 'dishwasher', 'ideal', 'family', 'cookingserves', 'personbrand', 'new', 'never', 'used', 'still', 'original', 'packaging'], <gensim.models.keyedvectors.KeyedVectors object at 0x7fd1f4fb97f0>), (['collection', 'dont', 'drive', 'ono'], <gensim.models.keyedvectors.KeyedVectors object at 0x7fd2090e1f10>), (['great', 'reclaimed', 'army', 'ammunition', 'box', 'used', 'coffee', 'side', 'tableoriginal', 'text', 'detail', 'latchs', 'leather', 'handle', 'metal', 'corners', 'fantastic', 'patinareal', 'statement', 'piece', 'one', 'two', 'boxes', 'sameblack', 'steel', 'prong', 'hairpin', 'legstotal', 'cm', 'cm', 'widecm', 'longcm', 'inch', 'highbox', 'inch', 'cm', 'deepblack', 'hairpin', 'legs', 'cm', 'inch', 'come', 'floor', 'protectors', 'wanted', 'collection', 'kilmersdon', 'somerset', 'batd', 'deliver', 'locally', 'small', 'fee'], <gensim.models.keyedvectors.KeyedVectors object at 0x7fd2090e19d0>), (['new', 'design', 'shannon', 'corner', 'sofa', 'seater', 'available'], <gensim.models.keyedvectors.KeyedVectors object at 0x7fd209130eb0>)]\n"
>>>>>>> 3daa23547e60d19c7f16655e45fdceb9363e2897
=======
      "[(['mirror', 'wall', 'art', 'posted', 'nisha', 'dining', 'living', 'room', 'furniture', 'mirrors', 'clocks', 'ornaments', 'wokingham', 'february', 'size', 'xcm'], <gensim.models.keyedvectors.KeyedVectors object at 0x7fd209130880>), (['morphy', 'richards', 'model', 'stainless', 'steel', 'tier', 'stackable', 'food', 'steamer', 'litre', 'capacity', 'litre', 'rice', 'tray', 'easy', 'clean', 'used', 'dishwasher', 'ideal', 'family', 'cookingserves', 'personbrand', 'new', 'never', 'used', 'still', 'original', 'packaging'], <gensim.models.keyedvectors.KeyedVectors object at 0x7fd1f4fb97f0>), (['collection', 'dont', 'drive', 'ono'], <gensim.models.keyedvectors.KeyedVectors object at 0x7fd2090e1f10>), (['great', 'reclaimed', 'army', 'ammunition', 'box', 'used', 'coffee', 'side', 'tableoriginal', 'text', 'detail', 'latchs', 'leather', 'handle', 'metal', 'corners', 'fantastic', 'patinareal', 'statement', 'piece', 'one', 'two', 'boxes', 'sameblack', 'steel', 'prong', 'hairpin', 'legstotal', 'cm', 'cm', 'widecm', 'longcm', 'inch', 'highbox', 'inch', 'cm', 'deepblack', 'hairpin', 'legs', 'cm', 'inch', 'come', 'floor', 'protectors', 'wanted', 'collection', 'kilmersdon', 'somerset', 'batd', 'deliver', 'locally', 'small', 'fee'], <gensim.models.keyedvectors.KeyedVectors object at 0x7fd2090e19d0>), (['new', 'design', 'shannon', 'corner', 'sofa', 'seater', 'available'], <gensim.models.keyedvectors.KeyedVectors object at 0x7fd209130eb0>)]\n"
>>>>>>> f2ad08c734372b267d827f1e778359060c38f46b
     ]
    }
   ],
   "source": [
    "# print(testing[0])\n",
<<<<<<< HEAD
<<<<<<< HEAD
    "review_lines = list()\n",
    "lines = df_nlp['product_description'].values.tolist\n",
=======
>>>>>>> 3daa23547e60d19c7f16655e45fdceb9363e2897
=======
>>>>>>> f2ad08c734372b267d827f1e778359060c38f46b
    "final_embedded = []\n",
    "for index, desc in enumerate(testing):\n",
    "    # print(desc)\n",
    "    model = Word2Vec(sentences=desc, vector_size=128, window=5, min_count=1, workers=4)\n",
    "    vectors = model.wv\n",
<<<<<<< HEAD
<<<<<<< HEAD
    "    \n",
=======
>>>>>>> 3daa23547e60d19c7f16655e45fdceb9363e2897
=======
>>>>>>> f2ad08c734372b267d827f1e778359060c38f46b
    "    embedding_pair = (desc, vectors)\n",
    "    # print(vectors['mirror'])\n",
    "    final_embedded.append((embedding_pair))\n",
    "    # print(embedding_pair[0][0])\n",
    "# print(final_embedded)\n",
    "# print(vectors.similarity('mirror', 'wokingham'))\n",
    "# vectors.most_similar('mirror')\n",
    "print(final_embedded[:5])\n",
<<<<<<< HEAD
<<<<<<< HEAD
    "print(len(model.wv))\n",
    "\n",
    "window_idx = model.wv.key_to_index['mirror']\n",
    "window_idx = model.wv.get_vecattr('mirror', 'league')\n",
=======
>>>>>>> 3daa23547e60d19c7f16655e45fdceb9363e2897
=======
>>>>>>> f2ad08c734372b267d827f1e778359060c38f46b
    "# class word2vec(nn.module):\n"
   ]
  },
  {
   "cell_type": "code",
<<<<<<< HEAD
<<<<<<< HEAD
   "execution_count": null,
   "metadata": {},
   "outputs": [
    {
     "name": "stdout",
     "output_type": "stream",
     "text": [
      "10468\n"
     ]
    }
   ],
   "source": [
    "print(len(final_embedded))"
   ]
  },
  {
   "cell_type": "code",
   "execution_count": null,
=======
   "execution_count": 21,
>>>>>>> 3daa23547e60d19c7f16655e45fdceb9363e2897
=======
   "execution_count": 21,
>>>>>>> f2ad08c734372b267d827f1e778359060c38f46b
   "metadata": {},
   "outputs": [
    {
     "data": {
      "text/plain": [
       "'\\ntrain shallow word2vec model training loop can stay unchanged from cnn, same with accuracy measures'"
      ]
     },
<<<<<<< HEAD
<<<<<<< HEAD
     "execution_count": 32,
=======
     "execution_count": 21,
>>>>>>> 3daa23547e60d19c7f16655e45fdceb9363e2897
=======
     "execution_count": 21,
>>>>>>> f2ad08c734372b267d827f1e778359060c38f46b
     "metadata": {},
     "output_type": "execute_result"
    }
   ],
   "source": [
    "'''\n",
    "train shallow word2vec model training loop can stay unchanged from cnn, same with accuracy measures'''"
   ]
  },
  {
   "cell_type": "code",
<<<<<<< HEAD
<<<<<<< HEAD
   "execution_count": null,
=======
   "execution_count": 22,
>>>>>>> 3daa23547e60d19c7f16655e45fdceb9363e2897
=======
   "execution_count": 22,
>>>>>>> f2ad08c734372b267d827f1e778359060c38f46b
   "metadata": {},
   "outputs": [
    {
     "data": {
      "text/html": [
       "<div>\n",
       "<style scoped>\n",
       "    .dataframe tbody tr th:only-of-type {\n",
       "        vertical-align: middle;\n",
       "    }\n",
       "\n",
       "    .dataframe tbody tr th {\n",
       "        vertical-align: top;\n",
       "    }\n",
       "\n",
       "    .dataframe thead th {\n",
       "        text-align: right;\n",
       "    }\n",
       "</style>\n",
       "<table border=\"1\" class=\"dataframe\">\n",
       "  <thead>\n",
       "    <tr style=\"text-align: right;\">\n",
       "      <th></th>\n",
       "      <th>word</th>\n",
       "      <th>vector</th>\n",
       "    </tr>\n",
       "  </thead>\n",
       "  <tbody>\n",
       "    <tr>\n",
       "      <th>0</th>\n",
       "      <td>[mirror, wall, art, posted, nisha, dining, liv...</td>\n",
       "      <td>[[-0.0004172585, 0.00018512935, 0.0039872597, ...</td>\n",
       "    </tr>\n",
       "    <tr>\n",
       "      <th>1</th>\n",
       "      <td>[morphy, richards, model, stainless, steel, ti...</td>\n",
       "      <td>[[-0.0004174455, 0.00014496804, 0.0040242425, ...</td>\n",
       "    </tr>\n",
       "    <tr>\n",
       "      <th>2</th>\n",
       "      <td>[collection, dont, drive, ono]</td>\n",
       "      <td>[[-0.00041898666, 0.00018575686, 0.0039861966,...</td>\n",
       "    </tr>\n",
       "    <tr>\n",
       "      <th>3</th>\n",
       "      <td>[great, reclaimed, army, ammunition, box, used...</td>\n",
       "      <td>[[-0.00038393564, 0.00017671254, 0.0040888665,...</td>\n",
       "    </tr>\n",
       "    <tr>\n",
       "      <th>4</th>\n",
       "      <td>[new, design, shannon, corner, sofa, seater, a...</td>\n",
       "      <td>[[-0.0004164275, 0.00019118135, 0.0040010405, ...</td>\n",
       "    </tr>\n",
       "  </tbody>\n",
       "</table>\n",
       "</div>"
      ],
      "text/plain": [
       "                                                word  \\\n",
       "0  [mirror, wall, art, posted, nisha, dining, liv...   \n",
       "1  [morphy, richards, model, stainless, steel, ti...   \n",
       "2                     [collection, dont, drive, ono]   \n",
       "3  [great, reclaimed, army, ammunition, box, used...   \n",
       "4  [new, design, shannon, corner, sofa, seater, a...   \n",
       "\n",
       "                                              vector  \n",
       "0  [[-0.0004172585, 0.00018512935, 0.0039872597, ...  \n",
       "1  [[-0.0004174455, 0.00014496804, 0.0040242425, ...  \n",
       "2  [[-0.00041898666, 0.00018575686, 0.0039861966,...  \n",
       "3  [[-0.00038393564, 0.00017671254, 0.0040888665,...  \n",
       "4  [[-0.0004164275, 0.00019118135, 0.0040010405, ...  "
      ]
     },
<<<<<<< HEAD
<<<<<<< HEAD
     "execution_count": 33,
=======
     "execution_count": 22,
>>>>>>> 3daa23547e60d19c7f16655e45fdceb9363e2897
=======
     "execution_count": 22,
>>>>>>> f2ad08c734372b267d827f1e778359060c38f46b
     "metadata": {},
     "output_type": "execute_result"
    }
   ],
   "source": [
    "df_vectorised = pd.DataFrame(final_embedded, columns =['word', 'vector'])\n",
<<<<<<< HEAD
<<<<<<< HEAD
    "# df_vectorised.explode['word']\n",
=======
    "\n",
>>>>>>> 3daa23547e60d19c7f16655e45fdceb9363e2897
=======
    "\n",
>>>>>>> f2ad08c734372b267d827f1e778359060c38f46b
    "df_vectorised.head()\n",
    "# df_vectorised.info"
   ]
  },
  {
   "cell_type": "code",
<<<<<<< HEAD
<<<<<<< HEAD
   "execution_count": null,
   "metadata": {},
   "outputs": [
    {
     "data": {
      "text/html": [
       "<div>\n",
       "<style scoped>\n",
       "    .dataframe tbody tr th:only-of-type {\n",
       "        vertical-align: middle;\n",
       "    }\n",
       "\n",
       "    .dataframe tbody tr th {\n",
       "        vertical-align: top;\n",
       "    }\n",
       "\n",
       "    .dataframe thead th {\n",
       "        text-align: right;\n",
       "    }\n",
       "</style>\n",
       "<table border=\"1\" class=\"dataframe\">\n",
       "  <thead>\n",
       "    <tr style=\"text-align: right;\">\n",
       "      <th></th>\n",
       "      <th>word</th>\n",
       "      <th>vector</th>\n",
       "    </tr>\n",
       "  </thead>\n",
       "  <tbody>\n",
       "    <tr>\n",
       "      <th>0</th>\n",
       "      <td>mirror</td>\n",
       "      <td>[[-0.0004172585, 0.00018512935, 0.0039872597, ...</td>\n",
       "    </tr>\n",
       "    <tr>\n",
       "      <th>0</th>\n",
       "      <td>wall</td>\n",
       "      <td>[[-0.0004172585, 0.00018512935, 0.0039872597, ...</td>\n",
       "    </tr>\n",
       "    <tr>\n",
       "      <th>0</th>\n",
       "      <td>art</td>\n",
       "      <td>[[-0.0004172585, 0.00018512935, 0.0039872597, ...</td>\n",
       "    </tr>\n",
       "    <tr>\n",
       "      <th>0</th>\n",
       "      <td>posted</td>\n",
       "      <td>[[-0.0004172585, 0.00018512935, 0.0039872597, ...</td>\n",
       "    </tr>\n",
       "    <tr>\n",
       "      <th>0</th>\n",
       "      <td>nisha</td>\n",
       "      <td>[[-0.0004172585, 0.00018512935, 0.0039872597, ...</td>\n",
       "    </tr>\n",
       "  </tbody>\n",
       "</table>\n",
       "</div>"
      ],
      "text/plain": [
       "     word                                             vector\n",
       "0  mirror  [[-0.0004172585, 0.00018512935, 0.0039872597, ...\n",
       "0    wall  [[-0.0004172585, 0.00018512935, 0.0039872597, ...\n",
       "0     art  [[-0.0004172585, 0.00018512935, 0.0039872597, ...\n",
       "0  posted  [[-0.0004172585, 0.00018512935, 0.0039872597, ...\n",
       "0   nisha  [[-0.0004172585, 0.00018512935, 0.0039872597, ..."
      ]
     },
     "execution_count": 34,
     "metadata": {},
     "output_type": "execute_result"
    }
   ],
   "source": [
    "df_embedded = df_vectorised.explode('word')\n",
    "df_embedded.head()"
   ]
  },
  {
   "cell_type": "code",
   "execution_count": null,
=======
   "execution_count": 23,
>>>>>>> 3daa23547e60d19c7f16655e45fdceb9363e2897
=======
   "execution_count": 23,
>>>>>>> f2ad08c734372b267d827f1e778359060c38f46b
   "metadata": {},
   "outputs": [],
   "source": [
    "df.to_pickle('context_df.pkl')\n",
<<<<<<< HEAD
<<<<<<< HEAD
    "df_embedded.to_pickle('embedded_df.pkl')\n",
    "df_vectorised.to_pickle('embedded_fin.pkl')"
=======
    "df_vectorised.to_pickle('embedded_df.pkl')"
>>>>>>> 3daa23547e60d19c7f16655e45fdceb9363e2897
=======
    "df_vectorised.to_pickle('embedded_df.pkl')"
>>>>>>> f2ad08c734372b267d827f1e778359060c38f46b
   ]
  }
 ],
 "metadata": {
  "interpreter": {
   "hash": "e510884cfc2d161432d212cfd768f3de9a805e4599418f66cff32f16447a06c3"
  },
  "kernelspec": {
   "display_name": "Python 3.8.8 ('base')",
   "language": "python",
   "name": "python3"
  },
  "language_info": {
   "codemirror_mode": {
    "name": "ipython",
    "version": 3
   },
   "file_extension": ".py",
   "mimetype": "text/x-python",
   "name": "python",
   "nbconvert_exporter": "python",
   "pygments_lexer": "ipython3",
   "version": "3.8.8"
  },
  "orig_nbformat": 4
 },
 "nbformat": 4,
 "nbformat_minor": 2
}
